{
 "cells": [
  {
   "cell_type": "code",
   "execution_count": 92,
   "id": "ba755023",
   "metadata": {},
   "outputs": [],
   "source": [
    "import h5py\n",
    "import os\n",
    "import numpy as np"
   ]
  },
  {
   "cell_type": "code",
   "execution_count": 78,
   "id": "cbab2f0b",
   "metadata": {},
   "outputs": [],
   "source": [
    "out_put_location = '/shared/vc150_Rs0_Mdot745_Rcirc10/output'\n",
    "os.chdir(out_put_location)"
   ]
  },
  {
   "cell_type": "code",
   "execution_count": 86,
   "id": "13344299",
   "metadata": {},
   "outputs": [],
   "source": [
    "class Snapshot:\n",
    "    def __init__(self,snapshotNum):\n",
    "        snapshotName = 'snapshot_' + str(snapshotNum).zfill(3) + '.hdf5'\n",
    "        file = f = h5py.File(snapshotName,'r')\n",
    "        self.header = f['Header']\n",
    "        self.headerattr = self.header.attrs\n",
    "        self.gas = f['PartType0']\n",
    "        self.dum1 = f['PartType2']\n",
    "        self.dum2 = f['PartType3']\n",
    "        self.stars = f['PartType4']\n",
    "        self.BH = f['PartType5']\n",
    "        \n",
    "    def sfr(self):\n",
    "        for i in range(len(gas['StarFormationRate'])):\n",
    "            if gas['StarFormationRate'][i] > 0:\n",
    "                print('Particle number: ' + str(i))\n",
    "                print(\"Particle SFR: \"+ str(gas['StarFormationRate'][i])+ ' MSun per year')\n",
    "    \n",
    "    def radius(self):\n",
    "        NumOfPart = headattr['NumPart_Total']\n",
    "        radius = np.zeros(NumOfPart)\n",
    "        for i in range(len(gas['Coordinates'])):\n",
    "            # x = gas['Coordinates'][i][0]\n",
    "            # y = gas['Coordinates'][i][1]\n",
    "            # z = gas['Coordinates'][i][2]\n",
    "            radius[i] = np.linalg.norm(gas['Coordinates'][i])\n",
    "        return radius\n",
    "    \n",
    "    def SFPR(self):\n",
    "        ## Star Forming Particles Radius ##\n",
    "        SFPR = []\n",
    "        for i in range(len(gas['StarFormationRate'])):\n",
    "            if gas['StarFormationRate'][i] > 0:\n",
    "                SFPR.append(np.linalg)"
   ]
  },
  {
   "cell_type": "code",
   "execution_count": 90,
   "id": "34283b51",
   "metadata": {},
   "outputs": [],
   "source": [
    "snp234 = Snapshot(234)\n",
    "snp235 = Snapshot(235)\n",
    "snp003 = Snapshot(3)"
   ]
  },
  {
   "cell_type": "code",
   "execution_count": null,
   "id": "a63eea37",
   "metadata": {},
   "outputs": [],
   "source": []
  },
  {
   "cell_type": "code",
   "execution_count": 35,
   "id": "42776a9d",
   "metadata": {},
   "outputs": [
    {
     "name": "stdout",
     "output_type": "stream",
     "text": [
      "snapshot_234.hdf5\n"
     ]
    }
   ],
   "source": [
    "snapshotNum = 234\n",
    "snapshotName = 'snapshot_' + str(snapshotNum).zfill(3) + '.hdf5'\n",
    "print(snapshotName)"
   ]
  },
  {
   "cell_type": "code",
   "execution_count": 36,
   "id": "323932dd",
   "metadata": {},
   "outputs": [],
   "source": [
    "f = gz.File(snapshotName,'r')"
   ]
  },
  {
   "cell_type": "code",
   "execution_count": 37,
   "id": "8c594088",
   "metadata": {},
   "outputs": [
    {
     "name": "stdout",
     "output_type": "stream",
     "text": [
      "['Header', 'PartType0', 'PartType2', 'PartType3', 'PartType4', 'PartType5']\n"
     ]
    }
   ],
   "source": [
    "print(list(f.keys()))"
   ]
  },
  {
   "cell_type": "code",
   "execution_count": 65,
   "id": "33fa6c7a",
   "metadata": {},
   "outputs": [
    {
     "name": "stdout",
     "output_type": "stream",
     "text": [
      "['BH_Dist', 'CoolingRate', 'Coordinates', 'Density', 'ElectronAbundance', 'HeatingRate', 'HydroHeatingRate', 'IMFFormationProperties', 'InternalEnergy', 'Masses', 'MetalCoolingRate', 'Metallicity', 'MyHeatT', 'NetHeatingRateQ', 'NeutralHydrogenAbundance', 'ParticleChildIDsNumber', 'ParticleIDGenerationNumber', 'ParticleIDs', 'SmoothingLength', 'StarFormationRate', 'Velocities']\n",
      "['BH_Dist', 'Coordinates', 'Masses', 'ParticleChildIDsNumber', 'ParticleIDGenerationNumber', 'ParticleIDs', 'Velocities']\n",
      "['BH_Dist', 'Coordinates', 'Masses', 'ParticleChildIDsNumber', 'ParticleIDGenerationNumber', 'ParticleIDs', 'Velocities']\n",
      "['BH_Dist', 'Coordinates', 'IMFFormationProperties', 'Masses', 'Metallicity', 'ParticleChildIDsNumber', 'ParticleIDGenerationNumber', 'ParticleIDs', 'StellarFormationTime', 'Velocities']\n",
      "['BH_Dist', 'Coordinates', 'IMFFormationProperties', 'Masses', 'ParticleChildIDsNumber', 'ParticleIDGenerationNumber', 'ParticleIDs', 'Velocities']\n"
     ]
    }
   ],
   "source": [
    "print(list(f['PartType0']))\n",
    "gas = f['PartType0']\n",
    "print(list(f['PartType2']))\n",
    "dum1 = f['PartType2']\n",
    "print(list(f['PartType3']))\n",
    "dum2 = f['PartType3']\n",
    "print(list(f['PartType4']))\n",
    "stars = f['PartType4']\n",
    "print(list(f['PartType5']))\n",
    "BH = f['PartType5']"
   ]
  },
  {
   "cell_type": "code",
   "execution_count": 71,
   "id": "c94dd0fd",
   "metadata": {},
   "outputs": [
    {
     "name": "stdout",
     "output_type": "stream",
     "text": [
      "[180345      0 125000  25000  37613      1]\n"
     ]
    }
   ],
   "source": [
    "headattr = f['Header'].attrs\n",
    "print(headattr['NumPart_Total'])"
   ]
  },
  {
   "cell_type": "code",
   "execution_count": 73,
   "id": "3cd57b72",
   "metadata": {},
   "outputs": [
    {
     "name": "stdout",
     "output_type": "stream",
     "text": [
      "Particle number: 8140\n",
      "Particle SFR: 0.031469934 MSun per year\n",
      "Particle number: 8148\n",
      "Particle SFR: 0.04001922 MSun per year\n",
      "Particle number: 8151\n",
      "Particle SFR: 0.050175656 MSun per year\n",
      "Particle number: 18133\n",
      "Particle SFR: 0.032350242 MSun per year\n",
      "Particle number: 18221\n",
      "Particle SFR: 0.07309979 MSun per year\n",
      "Particle number: 19943\n",
      "Particle SFR: 0.037108354 MSun per year\n",
      "Particle number: 35141\n",
      "Particle SFR: 0.019883268 MSun per year\n",
      "Particle number: 60160\n",
      "Particle SFR: 0.029705442 MSun per year\n",
      "Particle number: 66765\n",
      "Particle SFR: 0.022428866 MSun per year\n",
      "Particle number: 94627\n",
      "Particle SFR: 0.020209696 MSun per year\n",
      "Particle number: 100198\n",
      "Particle SFR: 0.02884651 MSun per year\n",
      "Particle number: 107565\n",
      "Particle SFR: 0.054107044 MSun per year\n",
      "Particle number: 107569\n",
      "Particle SFR: 0.01860372 MSun per year\n",
      "Particle number: 107576\n",
      "Particle SFR: 0.03331837 MSun per year\n",
      "Particle number: 110966\n",
      "Particle SFR: 0.021844927 MSun per year\n",
      "Particle number: 110967\n",
      "Particle SFR: 0.053082604 MSun per year\n",
      "Particle number: 110968\n",
      "Particle SFR: 0.040248215 MSun per year\n",
      "Particle number: 110969\n",
      "Particle SFR: 0.02252461 MSun per year\n",
      "Particle number: 142854\n",
      "Particle SFR: 0.027123827 MSun per year\n",
      "Particle number: 145834\n",
      "Particle SFR: 0.020912377 MSun per year\n",
      "Particle number: 164473\n",
      "Particle SFR: 0.022488412 MSun per year\n",
      "Particle number: 164474\n",
      "Particle SFR: 0.018825507 MSun per year\n",
      "Particle number: 173281\n",
      "Particle SFR: 0.021627922 MSun per year\n",
      "Particle number: 173283\n",
      "Particle SFR: 0.03380053 MSun per year\n",
      "Particle number: 173285\n",
      "Particle SFR: 0.024491988 MSun per year\n",
      "Particle number: 173292\n",
      "Particle SFR: 0.019338 MSun per year\n",
      "Particle number: 173388\n",
      "Particle SFR: 0.034424078 MSun per year\n"
     ]
    }
   ],
   "source": [
    "for i in range(len(gas['StarFormationRate'])):\n",
    "    if gas['StarFormationRate'][i] > 0:\n",
    "        print('Particle number: ' + str(i))\n",
    "        print(\"Particle SFR: \"+ str(gas['StarFormationRate'][i])+ ' MSun per year')"
   ]
  },
  {
   "cell_type": "code",
   "execution_count": null,
   "id": "13d1c522",
   "metadata": {},
   "outputs": [],
   "source": [
    "snapshotNum = 235\n",
    "snapshotName = 'snapshot_' + str(snapshotNum).zfill(3) + '.hdf5'\n",
    "f2 = gz.File(snapshotName,'r')\n",
    "gas = f['PartType0']\n",
    "dum1 = f['PartType2']\n",
    "dum2 = f['PartType3']\n",
    "stars = f['PartType4']\n",
    "BH = f['PartType5']"
   ]
  },
  {
   "cell_type": "code",
   "execution_count": 43,
   "id": "abe49d2f",
   "metadata": {},
   "outputs": [
    {
     "name": "stdout",
     "output_type": "stream",
     "text": [
      "[2.0000000e+00 4.0748245e-01 2.2207689e+00 1.5708345e+00 4.0806827e+02\n",
      " 3.3997498e-02 1.2492330e-01 1.5653603e+01 9.9991406e+04 2.3127965e+02\n",
      " 0.0000000e+00 0.0000000e+00 0.0000000e+00]\n"
     ]
    }
   ],
   "source": [
    "print(f['PartType4']['IMFFormationProperties'][3])"
   ]
  },
  {
   "cell_type": "code",
   "execution_count": 44,
   "id": "a481ba60",
   "metadata": {},
   "outputs": [
    {
     "name": "stdout",
     "output_type": "stream",
     "text": [
      "(37613, 13)\n"
     ]
    }
   ],
   "source": [
    "print(f['PartType4']['IMFFormationProperties'].shape)"
   ]
  },
  {
   "cell_type": "code",
   "execution_count": 45,
   "id": "1a6f73ec",
   "metadata": {},
   "outputs": [
    {
     "name": "stdout",
     "output_type": "stream",
     "text": [
      "0.0\n"
     ]
    }
   ],
   "source": [
    "print(gas['StarFormationRate'][4567])"
   ]
  },
  {
   "cell_type": "code",
   "execution_count": 48,
   "id": "b9e1e2a0",
   "metadata": {},
   "outputs": [
    {
     "name": "stdout",
     "output_type": "stream",
     "text": [
      "[]\n"
     ]
    }
   ],
   "source": [
    "print(list(f['Header']))\n"
   ]
  },
  {
   "cell_type": "code",
   "execution_count": 49,
   "id": "7b64775a",
   "metadata": {},
   "outputs": [],
   "source": [
    "header_topdict = f[\"Header\"] # Load header dictionary (to parse below)\n",
    "header_toparse = header_topdict.attrs"
   ]
  },
  {
   "cell_type": "code",
   "execution_count": 58,
   "id": "a58910ee",
   "metadata": {},
   "outputs": [
    {
     "name": "stdout",
     "output_type": "stream",
     "text": [
      "5.849999990314245\n"
     ]
    }
   ],
   "source": [
    "print(header_toparse)"
   ]
  },
  {
   "cell_type": "code",
   "execution_count": 59,
   "id": "6a7f2f53",
   "metadata": {},
   "outputs": [
    {
     "name": "stdout",
     "output_type": "stream",
     "text": [
      "['BoxSize', 'Flag_Cooling', 'Flag_DoublePrecision', 'Flag_Feedback', 'Flag_IC_Info', 'Flag_Metals', 'Flag_Sfr', 'Flag_StellarAge', 'HubbleParam', 'MassTable', 'NumFilesPerSnapshot', 'NumPart_ThisFile', 'NumPart_Total', 'NumPart_Total_HighWord', 'Omega0', 'OmegaLambda', 'Redshift', 'Time']\n"
     ]
    }
   ],
   "source": [
    "print(list(header_toparse))"
   ]
  },
  {
   "cell_type": "code",
   "execution_count": 62,
   "id": "e9c7c9a0",
   "metadata": {},
   "outputs": [
    {
     "name": "stdout",
     "output_type": "stream",
     "text": [
      "1\n"
     ]
    }
   ],
   "source": [
    "print(header_toparse[\"NumFilesPerSnapshot\"])"
   ]
  },
  {
   "cell_type": "code",
   "execution_count": null,
   "id": "54ec24b5",
   "metadata": {},
   "outputs": [],
   "source": []
  }
 ],
 "metadata": {
  "kernelspec": {
   "display_name": "Python 3 (ipykernel)",
   "language": "python",
   "name": "python3"
  },
  "language_info": {
   "codemirror_mode": {
    "name": "ipython",
    "version": 3
   },
   "file_extension": ".py",
   "mimetype": "text/x-python",
   "name": "python",
   "nbconvert_exporter": "python",
   "pygments_lexer": "ipython3",
   "version": "3.9.13"
  }
 },
 "nbformat": 4,
 "nbformat_minor": 5
}
