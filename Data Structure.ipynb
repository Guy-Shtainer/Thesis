{
 "cells": [
  {
   "cell_type": "markdown",
   "id": "5f841ce6-23c2-48c1-972b-972075c10e7c",
   "metadata": {},
   "source": [
    "# File stractures"
   ]
  },
  {
   "cell_type": "markdown",
   "id": "a8689cd3-9962-4aa8-9d59-217bd532ee31",
   "metadata": {},
   "source": [
    "## H_p0_number_density pixel_values"
   ]
  },
  {
   "cell_type": "raw",
   "id": "5d976e24-98a1-4f32-a684-c91c722545c6",
   "metadata": {},
   "source": [
    "str(snapshot_num):direction:str(fraction_from_Rvir):[list with 'num_of_halos' items]"
   ]
  },
  {
   "cell_type": "markdown",
   "id": "45b02f00-09d0-4907-9dc3-6a328fb23065",
   "metadata": {},
   "source": [
    "## f_threshold_H_p0_number_density"
   ]
  },
  {
   "cell_type": "raw",
   "id": "f38c275f-370c-4787-a360-32feb89e305a",
   "metadata": {},
   "source": [
    "str(snapshot_num):direction:'ft' + str(threshold):'st' + str(sensitivity_threshold):str(fraction_from_Rvir):[list with 'num_of_halos' items]"
   ]
  }
 ],
 "metadata": {
  "kernelspec": {
   "display_name": "guyenv",
   "language": "python",
   "name": "guyenv"
  },
  "language_info": {
   "codemirror_mode": {
    "name": "ipython",
    "version": 3
   },
   "file_extension": ".py",
   "mimetype": "text/x-python",
   "name": "python",
   "nbconvert_exporter": "python",
   "pygments_lexer": "ipython3",
   "version": "3.11.5"
  }
 },
 "nbformat": 4,
 "nbformat_minor": 5
}
