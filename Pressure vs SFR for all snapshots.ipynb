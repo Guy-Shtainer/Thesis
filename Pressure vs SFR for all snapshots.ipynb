{
 "cells": [
  {
   "cell_type": "code",
   "execution_count": 7,
   "id": "fcca1be5",
   "metadata": {},
   "outputs": [],
   "source": [
    "import MyAnalysis as ma\n",
    "import numpy as np\n",
    "import matplotlib.pyplot as plt\n",
    "import os\n",
    "\n",
    "out_put_location = '/shared/vc150_Rs0_Mdot745_Rcirc10/output'\n",
    "os.chdir(out_put_location)\n",
    "\n"
   ]
  },
  {
   "cell_type": "code",
   "execution_count": 8,
   "id": "ba389640",
   "metadata": {},
   "outputs": [],
   "source": [
    "Ps = np.zeros(400)\n",
    "DPs =np.zeros(400)\n",
    "rs = []\n",
    "SFRs = np.zeros(400)\n",
    "Time = np.zeros(400)"
   ]
  },
  {
   "cell_type": "code",
   "execution_count": null,
   "id": "8a773540",
   "metadata": {},
   "outputs": [],
   "source": [
    "for i in range(400):\n",
    "    snp = ma.Snapshot(i)\n",
    "    [r,P,DP] = snp.gasPressure()\n",
    "    Ps[i] = p\n",
    "    DPs[i] = DP\n",
    "    if len(rs) == 0:\n",
    "        rs = r\n",
    "    SFRs[i] = snp.diffSFR()\n",
    "    Time[i] = snp.time()"
   ]
  },
  {
   "cell_type": "code",
   "execution_count": null,
   "id": "d6e7c624",
   "metadata": {},
   "outputs": [],
   "source": [
    "plt.plot(SFRs,Time)"
   ]
  }
 ],
 "metadata": {
  "kernelspec": {
   "display_name": "Python 3",
   "language": "python",
   "name": "python3"
  },
  "language_info": {
   "codemirror_mode": {
    "name": "ipython",
    "version": 3
   },
   "file_extension": ".py",
   "mimetype": "text/x-python",
   "name": "python",
   "nbconvert_exporter": "python",
   "pygments_lexer": "ipython3",
   "version": "3.8.10"
  }
 },
 "nbformat": 4,
 "nbformat_minor": 5
}
